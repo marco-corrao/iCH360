{
 "cells": [
  {
   "cell_type": "markdown",
   "metadata": {},
   "source": [
    "# Getting started\n",
    "In this notebook, we demonstrate how to load the *i*CH360 metabolic model and perform basic stoichiometric analysis, such as Flux Balance Analysis (FBA), Flux Variability Analysis (FVA) and parsimonious Flux Balance Analayis (pFBA). We also demonstrate how to export a flux distribution for visualisation the the *i*CH360 model maps in Escher (https://escher.github.io/#/).\n",
    "\n",
    "All analysis will be performed using the popular metabolic modelling toolbox COBRApy. You can find many more turorials/examples of model manipulation in the COBRApy documentation (https://cobrapy.readthedocs.io/). \n",
    "\n",
    "Let's start by importing the required packages"
   ]
  },
  {
   "cell_type": "code",
   "execution_count": 1,
   "metadata": {},
   "outputs": [],
   "source": [
    "import cobra #for model manipulation/analysis\n",
    "import json  #to export fluxes for visualisation in Escher\n",
    "import sys #To import the custom script for compressed map visualisation"
   ]
  },
  {
   "cell_type": "markdown",
   "metadata": {},
   "source": [
    "## Loading the model"
   ]
  },
  {
   "cell_type": "markdown",
   "metadata": {},
   "source": [
    "First let's read *i*CH360 from file using the COBRA toolbox"
   ]
  },
  {
   "cell_type": "code",
   "execution_count": 2,
   "metadata": {},
   "outputs": [
    {
     "name": "stdout",
     "output_type": "stream",
     "text": [
      "Set parameter Username\n",
      "Academic license - for non-commercial use only - expires 2025-03-12\n"
     ]
    },
    {
     "data": {
      "text/html": [
       "\n",
       "        <table>\n",
       "            <tr>\n",
       "                <td><strong>Name</strong></td>\n",
       "                <td>iCH360</td>\n",
       "            </tr><tr>\n",
       "                <td><strong>Memory address</strong></td>\n",
       "                <td>1c17acc2da0</td>\n",
       "            </tr><tr>\n",
       "                <td><strong>Number of metabolites</strong></td>\n",
       "                <td>304</td>\n",
       "            </tr><tr>\n",
       "                <td><strong>Number of reactions</strong></td>\n",
       "                <td>349</td>\n",
       "            </tr><tr>\n",
       "                <td><strong>Number of genes</strong></td>\n",
       "                <td>356</td>\n",
       "            </tr><tr>\n",
       "                <td><strong>Number of groups</strong></td>\n",
       "                <td>0</td>\n",
       "            </tr><tr>\n",
       "                <td><strong>Objective expression</strong></td>\n",
       "                <td>1.0*Biomass - 1.0*Biomass_reverse_57a34</td>\n",
       "            </tr><tr>\n",
       "                <td><strong>Compartments</strong></td>\n",
       "                <td>cytosol, extracellular space, periplasm</td>\n",
       "            </tr>\n",
       "          </table>"
      ],
      "text/plain": [
       "<Model iCH360 at 0x1c17acc2da0>"
      ]
     },
     "execution_count": 2,
     "metadata": {},
     "output_type": "execute_result"
    }
   ],
   "source": [
    "model=cobra.io.read_sbml_model('../Model/iCH360/Escherichia_coli_iCH360.xml')\n",
    "model"
   ]
  },
  {
   "cell_type": "markdown",
   "metadata": {},
   "source": [
    "## Flux Balance Analysis"
   ]
  },
  {
   "cell_type": "markdown",
   "metadata": {},
   "source": [
    "By default, the model is set up to model aerobic growth on glucose as a sole carbon source, with an uptake bound of 10 mmol/gDW/h for glucose and no restrictions on oxygen uptake. The default objective of the model is the Biomass reaction (growth rate).\n"
   ]
  },
  {
   "cell_type": "code",
   "execution_count": 3,
   "metadata": {},
   "outputs": [
    {
     "name": "stdout",
     "output_type": "stream",
     "text": [
      "Glucose exchange reaction (EX_glc__D_e) bounds: (-10.0, 1000.0)\n",
      "Oxygen exchange reaction (EX_o2_e) bounds: (-1000.0, 1000.0)\n",
      "----\n",
      "Model objective: Maximize\n",
      "1.0*Biomass - 1.0*Biomass_reverse_57a34\n"
     ]
    }
   ],
   "source": [
    "print(f\"Glucose exchange reaction (EX_glc__D_e) bounds: {model.reactions.get_by_id('EX_glc__D_e').bounds}\")\n",
    "print(f\"Oxygen exchange reaction (EX_o2_e) bounds: {model.reactions.get_by_id('EX_o2_e').bounds}\")\n",
    "print('----')\n",
    "print(f\"Model objective: {model.objective}\")"
   ]
  },
  {
   "cell_type": "markdown",
   "metadata": {},
   "source": [
    "Let's run Flux Balance Analysis for this growth condition, using the `cobra.Model.optimize()` method."
   ]
  },
  {
   "cell_type": "code",
   "execution_count": 4,
   "metadata": {},
   "outputs": [
    {
     "name": "stdout",
     "output_type": "stream",
     "text": [
      "Status: optimal. Optimal objective: 0.866/h\n"
     ]
    },
    {
     "data": {
      "text/plain": [
       "NDPK5     0.023387\n",
       "SHK3Dr    0.328942\n",
       "Name: fluxes, dtype: float64"
      ]
     },
     "execution_count": 4,
     "metadata": {},
     "output_type": "execute_result"
    }
   ],
   "source": [
    "fba_sol_glc_aer=model.optimize()\n",
    "\n",
    "print(f\"Status: {fba_sol_glc_aer.status}. Optimal objective: {round(fba_sol_glc_aer.objective_value,3)}/h\")\n",
    "fba_sol_glc_aer.fluxes.head(2)"
   ]
  },
  {
   "cell_type": "markdown",
   "metadata": {},
   "source": [
    "If we want to run FBA for a different growth condition, we simply block glucose uptake and lift the lower bound on the uptake of the desired carbon source and/or Oxygen,. For example, let's run FBA for anaerobic growth on fructose"
   ]
  },
  {
   "cell_type": "code",
   "execution_count": 5,
   "metadata": {},
   "outputs": [
    {
     "name": "stdout",
     "output_type": "stream",
     "text": [
      "Status: optimal. Optimal objective: 0.157/h\n"
     ]
    },
    {
     "data": {
      "text/plain": [
       "NDPK5     0.004230\n",
       "SHK3Dr    0.059501\n",
       "Name: fluxes, dtype: float64"
      ]
     },
     "execution_count": 5,
     "metadata": {},
     "output_type": "execute_result"
    }
   ],
   "source": [
    "with model as m:\n",
    "    #Block uptake of glucose (default carbon source)\n",
    "    model.reactions.get_by_id('EX_glc__D_e').lower_bound=0\n",
    "    #Enable uptake of pyruvate (up to 10 mmol/gDW/h)\n",
    "    model.reactions.get_by_id('EX_fru_e').lower_bound=-10\n",
    "    #Block uptake of oxygen to simulate anaerobic conditions\n",
    "    model.reactions.get_by_id('EX_o2_e').lower_bound=0\n",
    "\n",
    "    #run FBA\n",
    "    fba_sol_fru_an=m.optimize()\n",
    "    \n",
    "print(f\"Status: {fba_sol_fru_an.status}. Optimal objective: {round(fba_sol_fru_an.objective_value,3)}/h\")\n",
    "fba_sol_fru_an.fluxes.head(2)"
   ]
  },
  {
   "cell_type": "markdown",
   "metadata": {},
   "source": [
    "Note that the use of the \"with\" construct, also known as context, enables us to make temporary changes (like, in this case, changing reaction bounds) without modifying the original model object."
   ]
  },
  {
   "cell_type": "markdown",
   "metadata": {},
   "source": [
    "## Flux Variability Analysis and Parsimonious Flux Balance Analysis"
   ]
  },
  {
   "cell_type": "markdown",
   "metadata": {},
   "source": [
    "A common limitation of Flux Balance Analysis is that the optimal solution may not be unique. That is, there may exist multiple flux distributions achieving the same optimal objective (i.e. in this case, achieving the same optimal growth rate). In practice, the solution we obtained above is just *one* of these equally optimal flux distributions, and which solution is returned depends largely on the specific implementation of the solver. To assess the extent of this degeneracy at the optimum, a popular technique is Flux Variability Analysis (FVA). In simple terms, one can think of FVA as a way of \"pooling\" together all equally optimal solutions and assessing how much the flux for each reaction varies across them.\n",
    "\n",
    "Let's run FVA. Setting the `loopless=True` ensures that the solver excludes thermodynamically infeasible loops from the solution, resulting in more realistic results."
   ]
  },
  {
   "cell_type": "code",
   "execution_count": 6,
   "metadata": {},
   "outputs": [
    {
     "data": {
      "text/html": [
       "<div>\n",
       "<style scoped>\n",
       "    .dataframe tbody tr th:only-of-type {\n",
       "        vertical-align: middle;\n",
       "    }\n",
       "\n",
       "    .dataframe tbody tr th {\n",
       "        vertical-align: top;\n",
       "    }\n",
       "\n",
       "    .dataframe thead th {\n",
       "        text-align: right;\n",
       "    }\n",
       "</style>\n",
       "<table border=\"1\" class=\"dataframe\">\n",
       "  <thead>\n",
       "    <tr style=\"text-align: right;\">\n",
       "      <th></th>\n",
       "      <th>minimum</th>\n",
       "      <th>maximum</th>\n",
       "      <th>variability</th>\n",
       "    </tr>\n",
       "  </thead>\n",
       "  <tbody>\n",
       "    <tr>\n",
       "      <th>THD2pp</th>\n",
       "      <td>0.000000</td>\n",
       "      <td>4.891289</td>\n",
       "      <td>4.891289</td>\n",
       "    </tr>\n",
       "    <tr>\n",
       "      <th>GND</th>\n",
       "      <td>0.511807</td>\n",
       "      <td>3.446580</td>\n",
       "      <td>2.934773</td>\n",
       "    </tr>\n",
       "    <tr>\n",
       "      <th>G6PDH2r</th>\n",
       "      <td>0.511807</td>\n",
       "      <td>3.446580</td>\n",
       "      <td>2.934773</td>\n",
       "    </tr>\n",
       "    <tr>\n",
       "      <th>PGL</th>\n",
       "      <td>0.511807</td>\n",
       "      <td>3.446580</td>\n",
       "      <td>2.934773</td>\n",
       "    </tr>\n",
       "    <tr>\n",
       "      <th>PGI</th>\n",
       "      <td>6.553420</td>\n",
       "      <td>9.488193</td>\n",
       "      <td>2.934773</td>\n",
       "    </tr>\n",
       "  </tbody>\n",
       "</table>\n",
       "</div>"
      ],
      "text/plain": [
       "          minimum   maximum  variability\n",
       "THD2pp   0.000000  4.891289     4.891289\n",
       "GND      0.511807  3.446580     2.934773\n",
       "G6PDH2r  0.511807  3.446580     2.934773\n",
       "PGL      0.511807  3.446580     2.934773\n",
       "PGI      6.553420  9.488193     2.934773"
      ]
     },
     "execution_count": 6,
     "metadata": {},
     "output_type": "execute_result"
    }
   ],
   "source": [
    "#Run FVA\n",
    "fva_sol=cobra.flux_analysis.flux_variability_analysis(model,loopless=True)\n",
    "\n",
    "#Compute variability (gap between max and min flux at the optimum)\n",
    "fva_sol['variability']=fva_sol['maximum']-fva_sol['minimum']\n",
    "\n",
    "#Inspect the first 5 occurrences\n",
    "fva_sol.sort_values('variability',ascending=False).head(5)"
   ]
  },
  {
   "cell_type": "markdown",
   "metadata": {},
   "source": [
    "As you can see, the flux through some reaction can vary at the optimum, meaning that the optimal FBA solution is indeed not unique (though the contained size of *i*CH360 does not allow for a whole lot of variability). A popular heuristic to resolve this degeneracy in stoichiometric modelling is to introduce additional optimisation criteria on top of the FBA objective. For example, parsimonious FBA (pFBA), resolves ambiguity at the optimum by selecting, among equally optimal flux distributions, the one with the smallest sum of absolute fluxes.\n",
    "\n",
    "Let's run pFBA and verify that the, while the optimal flux distribution may be different from the one computed through FBA, the optimal objective (in this case, the flux through the Biomass reaction), is indeed the same as the FBA solution."
   ]
  },
  {
   "cell_type": "code",
   "execution_count": 7,
   "metadata": {},
   "outputs": [
    {
     "name": "stdout",
     "output_type": "stream",
     "text": [
      "Optimal growth rate:\n",
      "FBA:  0.866,\n",
      "pFBA: 0.866\n"
     ]
    }
   ],
   "source": [
    "pfba_sol=cobra.flux_analysis.pfba(model)\n",
    "print(f\"Optimal growth rate:\\nFBA:  {round(fba_sol_glc_aer.fluxes['Biomass'],3)},\\npFBA: {round(pfba_sol.fluxes['Biomass'],3)}\"\n",
    ")"
   ]
  },
  {
   "cell_type": "markdown",
   "metadata": {},
   "source": [
    "## Visualising flux distributions in Escher"
   ]
  },
  {
   "cell_type": "markdown",
   "metadata": {},
   "source": [
    "A great advantage of medium-scale models, such as *i*CH360, is that flux distributions through the network can be visualised in their entirety via metabolic visualisation tools such as Escher. Escher works with `JSON` data, so we will first export our flux distribution in this format.Let's work, for example, with the pFBA solution we just computed."
   ]
  },
  {
   "cell_type": "code",
   "execution_count": 8,
   "metadata": {},
   "outputs": [
    {
     "data": {
      "text/plain": [
       "NDPK5     0.023387\n",
       "SHK3Dr    0.328942\n",
       "NDPK6     0.022650\n",
       "NDPK8     0.022650\n",
       "DHORTS   -0.286345\n",
       "Name: fluxes, dtype: float64"
      ]
     },
     "execution_count": 8,
     "metadata": {},
     "output_type": "execute_result"
    }
   ],
   "source": [
    "flux_distribution=pfba_sol.fluxes\n",
    "flux_distribution.head()"
   ]
  },
  {
   "cell_type": "markdown",
   "metadata": {},
   "source": [
    "We will write this distribution to file with the `json` package. Note that COBRApy solutions are typically `pandas.Series` objects, but they will need to be converted to a python dictionary prior to saving to file."
   ]
  },
  {
   "cell_type": "code",
   "execution_count": 9,
   "metadata": {},
   "outputs": [],
   "source": [
    "#Open the desired output file in write ('w') mode\n",
    "with open('out/escher_visualisation/glc_aer_pfba_fluxes.json','w') as file:\n",
    "    #Write the flux distribution to file in JSON format\n",
    "    #Note the use of the to_dict() method to convert the Series into a python dictionary\n",
    "    json.dump(flux_distribution.to_dict(),file)"
   ]
  },
  {
   "cell_type": "markdown",
   "metadata": {},
   "source": [
    "Let's now visualise the flux distribution in Escher. First, go to the Escher website (https://escher.github.io/#/) and open an empty visualisation canvas by selecting `None` in the \"map\" dropdown and `viewer` in the \"Tool\" dropdown, followed by presing the \"Load map\" button.\n",
    "\n",
    "<img src=\"data/escher_visualisation/escher_front_page.png\" width=\"800\">"
   ]
  },
  {
   "cell_type": "markdown",
   "metadata": {},
   "source": [
    "Then, use Map->Load Map JSON and select the *i*CH360 metabolic map (`../Visualisation/model_map/full_map.json`)\n",
    "\n",
    "<img src=\"data/escher_visualisation/escher_load_map.png\" width=\"600\">"
   ]
  },
  {
   "cell_type": "markdown",
   "metadata": {},
   "source": [
    "Once the map has loaded, use Data -> Load reaction data and select the `.json` file we just exported to load the flux distribution.\n",
    "\n",
    "<img src=\"data/escher_visualisation/escher_load_reaction_data.png\" width=\"1000\">\n"
   ]
  },
  {
   "cell_type": "markdown",
   "metadata": {},
   "source": [
    "You should now be able to see fluxes overlaid onto the map!\n",
    "\n",
    "<img src=\"data/escher_visualisation/escher_flux_distribution_viz.png\" width=\"1000\">"
   ]
  },
  {
   "cell_type": "markdown",
   "metadata": {},
   "source": [
    "### Using the compressed map\n",
    "In addition to the full map we just used, *i*CH360 also comes with a condensed map, wherein linear pathways have been lumped into individual reactions. Because these lumped reactions are only visualisation convenience and don't belong to the model, you cannot directly use the model solution onto this map.\n",
    "\n",
    "If you wish to use it, fluxes must first be mapped to the ones in the map. Luckily, we took care of this mapping, and provde a function that automatically maps and export fluxes for the compressed map. You can find this function in `../Visualisation/visualisation_utils.py`. Here is an example demonstrating this possibility."
   ]
  },
  {
   "cell_type": "code",
   "execution_count": 10,
   "metadata": {},
   "outputs": [],
   "source": [
    "#Import the custom function\n",
    "sys.path.append('../Visualisation')\n",
    "from visualisation_utils import export_fluxes_for_compressed_map\n",
    "\n",
    "#Map and export the fluxes in the chosen file\n",
    "export_fluxes_for_compressed_map(fluxes=flux_distribution,\n",
    "                                 output_file='out/escher_visualisation/glc_aer_pfba_fluxes_compressed.json')"
   ]
  },
  {
   "cell_type": "markdown",
   "metadata": {},
   "source": [
    "You can now load the compressed map (`../Visualisation/model_map/compressed_map`) in Escher as we did above, and load the `.json` file we just generated as reaction data:\n",
    "\n",
    "<img src=\"data/escher_visualisation/escher_flux_distribution_compressed_map_viz.png\" width=\"1000\">"
   ]
  }
 ],
 "metadata": {
  "kernelspec": {
   "display_name": "kinetic_data",
   "language": "python",
   "name": "python3"
  },
  "language_info": {
   "codemirror_mode": {
    "name": "ipython",
    "version": 3
   },
   "file_extension": ".py",
   "mimetype": "text/x-python",
   "name": "python",
   "nbconvert_exporter": "python",
   "pygments_lexer": "ipython3",
   "version": "3.10.9"
  }
 },
 "nbformat": 4,
 "nbformat_minor": 2
}
