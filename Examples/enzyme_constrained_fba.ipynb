{
 "cells": [
  {
   "cell_type": "markdown",
   "metadata": {},
   "source": [
    "# Enzyme Constrained Flux Balance Analysis"
   ]
  },
  {
   "cell_type": "markdown",
   "metadata": {},
   "source": [
    "## Introduction\n",
    "\n",
    "In this short tutorial, we demonstrate how to use the model variant EC-*i*CH360 to run enzyme-constrained flux balance analysis (EC-FBA) and generate predictions of enzyme allocation across the network. EC-FBA is an extension of traditional Flux Balance Analysis that accounts, even if in a simplified way, for the enzymatic resources that must be allocated to support a given flux distribution through the metabolic network. \n",
    "\n",
    "This is achieved in EC-*i*CH360 by assigning each enzymatic reaction an enzyme cost $a_i$ (in g $\\cdot$ h/mmol) such that the enzyme mass (in g/gDW) that must be allocated to support a flux $v_i$ (in mmol/gDW*h) through the reaction is given by:\n",
    "$$\n",
    "e_i=a_i~v_i\n",
    "$$\n",
    "Hence, the EC model limits the space of possible flux distributions by assuming a maximal enzyme budget $E_{\\rm tot}$ (in g/gDW) that the cell can allocate to metabolism. This corresponds to adding the the following (linear) constraint in the FBA problem:\n",
    "$$\n",
    "\\underbrace{\\sum_i~a_i~v_i}_{\\rm total~enzyme~cost} \\leq E_{\\rm tot}\n",
    "$$\n",
    "Note that, in practice, $E_{\\rm tot}$ can be interpreted as the fraction of biomass that metabolic enzymes are allowed to occupy. "
   ]
  },
  {
   "cell_type": "markdown",
   "metadata": {},
   "source": [
    "## Loading the required packages\n",
    "EC-*i*CH360 can be loaded and simulated with the COBRA toolbox, so we won't require other metabolic modelling dependencies for this tutorial."
   ]
  },
  {
   "cell_type": "code",
   "execution_count": 125,
   "metadata": {},
   "outputs": [],
   "source": [
    "import cobra        #for model analysis\n",
    "import pandas as pd #to post-process results"
   ]
  },
  {
   "cell_type": "markdown",
   "metadata": {},
   "source": [
    "## Reading the EC model\n",
    "EC-*i*CH360 is a COBRA model just like any other, so it can be read using the standard COBRA I/O functions:"
   ]
  },
  {
   "cell_type": "code",
   "execution_count": 126,
   "metadata": {},
   "outputs": [
    {
     "data": {
      "text/html": [
       "\n",
       "        <table>\n",
       "            <tr>\n",
       "                <td><strong>Name</strong></td>\n",
       "                <td>EC_iCH360</td>\n",
       "            </tr><tr>\n",
       "                <td><strong>Memory address</strong></td>\n",
       "                <td>181a5d89ff0</td>\n",
       "            </tr><tr>\n",
       "                <td><strong>Number of metabolites</strong></td>\n",
       "                <td>305</td>\n",
       "            </tr><tr>\n",
       "                <td><strong>Number of reactions</strong></td>\n",
       "                <td>505</td>\n",
       "            </tr><tr>\n",
       "                <td><strong>Number of genes</strong></td>\n",
       "                <td>356</td>\n",
       "            </tr><tr>\n",
       "                <td><strong>Number of groups</strong></td>\n",
       "                <td>0</td>\n",
       "            </tr><tr>\n",
       "                <td><strong>Objective expression</strong></td>\n",
       "                <td>1.0*Biomass_fw - 1.0*Biomass_fw_reverse_bf19d</td>\n",
       "            </tr><tr>\n",
       "                <td><strong>Compartments</strong></td>\n",
       "                <td>cytosol, extracellular space, periplasm</td>\n",
       "            </tr>\n",
       "          </table>"
      ],
      "text/plain": [
       "<Model EC_iCH360 at 0x181a5d89ff0>"
      ]
     },
     "execution_count": 126,
     "metadata": {},
     "output_type": "execute_result"
    }
   ],
   "source": [
    "EC_iCH360=cobra.io.read_sbml_model('../Model/EC_iCH360/EC_iCH360.xml')\n",
    "ec_model"
   ]
  },
  {
   "cell_type": "markdown",
   "metadata": {},
   "source": [
    "As you can see, EC-*i*CH360 shares the same number of metabolites and genes as *i*CH360 but appears to have many more (almost twice as many) reactions as the standard model. The reason for this is that to enforce the enzyme resources constraint described in the [Introduction](#introduction), all fluxes are required to be positive (else you could have a negative enzyme cost for a reaction operating backward!). Hence, like many other enzyme-constrained model, reversible reactions in EC-*i*CH360 are split in forward and backwards components. Forward and backwards components of reactions are flagged by adding a `_fw`, and `_bw` suffix, respectively, to the reaction ID. For example, reaction `GAPD` appears as:"
   ]
  },
  {
   "cell_type": "code",
   "execution_count": 127,
   "metadata": {},
   "outputs": [
    {
     "name": "stdout",
     "output_type": "stream",
     "text": [
      "GAPD_fw: 0.000672197517699226 enzyme_pool + g3p_c + nad_c + pi_c --> 13dpg_c + h_c + nadh_c\n",
      "GAPD_bw: 13dpg_c + 0.0026437278052183 enzyme_pool + h_c + nadh_c --> g3p_c + nad_c + pi_c\n"
     ]
    }
   ],
   "source": [
    "print(EC_iCH360.reactions.get_by_id('GAPD_fw')) #forward component\n",
    "print(EC_iCH360.reactions.get_by_id('GAPD_bw')) #forward component) #backward component"
   ]
  },
  {
   "cell_type": "markdown",
   "metadata": {},
   "source": [
    "Note how the stoichiometry of the metabolites (ignoring the `enzyme_pool` item for now ) is inverted in the two reactions. Also, for consistency in the naming, the `_fw` suffix is also used used for irreversible reaction, which don't have a corresponding backward component:"
   ]
  },
  {
   "cell_type": "code",
   "execution_count": 128,
   "metadata": {},
   "outputs": [
    {
     "name": "stdout",
     "output_type": "stream",
     "text": [
      "PDH_fw: coa_c + 0.00128810216333717 enzyme_pool + nad_c + pyr_c --> accoa_c + co2_c + nadh_c\n",
      "PDH_bw not in the model!\n"
     ]
    }
   ],
   "source": [
    "print(EC_iCH360.reactions.get_by_id('PDH_fw'))\n",
    "print(EC_iCH360.reactions.get_by_id('PDH_bw') if 'PDH_bw' in EC_iCH360.reactions else \"PDH_bw not in the model!\")"
   ]
  },
  {
   "cell_type": "markdown",
   "metadata": {},
   "source": [
    "## The sMOMENT format"
   ]
  },
  {
   "cell_type": "markdown",
   "metadata": {},
   "source": [
    "EC-*i*CH360 was constructed using the sMOMENT format [1]. This is a particularly simple way to enhance a standard metabolic model with enzyme constraints and (in short) works as follows:\n",
    "1. Every reaction (after splitting in forward and backwards components) is assigned a unique enzyme.\n",
    "2. An \"enzyme pool\" pseudometabolite is introduced in the model. This pseudometabolite is consumed by each enzymatic reaction with stoichiometry corresponding to the enzyme cost (per unit flux) of that reaction, i.e. $a_i$ in [Introduction](#introduction).\n",
    "3. An \"enzyme supply\" pseudoreaction is introduced as a source of enzyme pool. The flux through this reaction is bounded by the allowable enzyme budget, i.e. $E_{\\rm tot}$ in [Introduction](#introduction).\n",
    "\n",
    "That's it! You may want to convince yourself that step 2 and 3 above correspond exactly to bounding the total enzyme cost in the model by \n",
    "$E_{\\rm tot}$, as we described in the in [Introduction](#introduction)..\n",
    "\n",
    " Compared to other formats, such as GECKO [2], this formulation imposes some limitations on the possible problem formulations supported by the EC-model (for example, it doesn't allow for individual bounds on each enzyme), but comes with the great advantage of only requiring one extra (pseudo)reaction and (pseudo)metabolite to be added to the model. In EC-*i*CH360, the enzyme pool pseudometabolite and the enzyme supply pseudoreactions are identified by the `enzyme_pool` and `enzyme_pool_supply` IDs:"
   ]
  },
  {
   "cell_type": "code",
   "execution_count": 129,
   "metadata": {},
   "outputs": [
    {
     "name": "stdout",
     "output_type": "stream",
     "text": [
      "enzyme_pool\n",
      "enzyme_pool_supply:  --> enzyme_pool\n"
     ]
    }
   ],
   "source": [
    "print(EC_iCH360.metabolites.get_by_id('enzyme_pool'))\n",
    "print(EC_iCH360.reactions.get_by_id('enzyme_pool_supply'))"
   ]
  },
  {
   "cell_type": "markdown",
   "metadata": {},
   "source": [
    "As we already saw before, the enzyme pool metabolite is consumed by all enzymatic reactions:"
   ]
  },
  {
   "cell_type": "code",
   "execution_count": 130,
   "metadata": {},
   "outputs": [
    {
     "name": "stdout",
     "output_type": "stream",
     "text": [
      "enzyme_pool is consumed by  428  reactions\n"
     ]
    }
   ],
   "source": [
    "enzyme_pool=EC_iCH360.metabolites.get_by_id('enzyme_pool')\n",
    "print(f\"{enzyme_pool} is consumed by \",\n",
    "      len([r for r in EC_iCH360.reactions if enzyme_pool in r.metabolites]),\n",
    "      \" reactions\"\n",
    "      )"
   ]
  },
  {
   "cell_type": "markdown",
   "metadata": {},
   "source": [
    "## Enzyme constrained flux balance analysis"
   ]
  },
  {
   "cell_type": "markdown",
   "metadata": {},
   "source": [
    "To simulate EC-*i*CH360, we simply need to run normal flux balance analysis on it (as per usual, EC-*i*CH360 is configured by default for aerobic growth on glucose, using maximisation of growth rate as an objective). The addition of the enzyme pool/supply metabolite and reactions automatically introduce the enzyme constraint in the problem. However, there is a fundamental difference with standard Flux Balance Analysis. In standard FBA, we *must* bound carbon source uptake, else, the problem becomes unbounded. in EC-FBA, carbon uptake needs not to be bounded, as the the enzyme budget constraint will inevitably be limiting at some point:"
   ]
  },
  {
   "cell_type": "code",
   "execution_count": 131,
   "metadata": {},
   "outputs": [
    {
     "name": "stdout",
     "output_type": "stream",
     "text": [
      "Glucose uptake bound: 1000.0\n",
      "EC-FBA objective: 0.62/h\n"
     ]
    },
    {
     "data": {
      "text/plain": [
       "NDPK5_fw     0.016660\n",
       "SHK3Dr_fw    0.234334\n",
       "NDPK6_fw     0.016136\n",
       "NDPK8_fw     0.016136\n",
       "DHORTS_fw    0.000000\n",
       "Name: fluxes, dtype: float64"
      ]
     },
     "execution_count": 131,
     "metadata": {},
     "output_type": "execute_result"
    }
   ],
   "source": [
    "print(f\"Glucose uptake bound: {EC_iCH360.reactions.get_by_id('EX_glc__D_e_bw').upper_bound}\")\n",
    "ec_fba_sol=EC_iCH360.optimize()\n",
    "print(f\"EC-FBA objective: {round(ec_fba_sol.fluxes['Biomass_fw'],2)}/h\")\n",
    "ec_fba_sol.fluxes.head()"
   ]
  },
  {
   "cell_type": "markdown",
   "metadata": {},
   "source": [
    "That was easy! As per usual, we can change the growth conditions by modifying the allowable exchanges (remember that, by convention, exchange fluxes are negative in the uptake direction, so that we need to modify bounds on the `_bw` components to modulate uptake):"
   ]
  },
  {
   "cell_type": "code",
   "execution_count": 132,
   "metadata": {},
   "outputs": [
    {
     "name": "stdout",
     "output_type": "stream",
     "text": [
      "EC-FBA objective: 0.11/h\n"
     ]
    }
   ],
   "source": [
    "#Anaerobic growth on fructose\n",
    "\n",
    "with EC_iCH360 as ec_model:\n",
    "    #Block uptake of glucose\n",
    "    ec_model.reactions.get_by_id('EX_glc__D_e_bw').upper_bound=0\n",
    "    #Allow uptake of fructose\n",
    "    ec_model.reactions.get_by_id('EX_fru_e_bw').upper_bound=1000\n",
    "    #Block uptake of oxygen\n",
    "    ec_model.reactions.get_by_id('EX_o2_e_bw').upper_bound=0.\n",
    "\n",
    "    #Run EC-FBA\n",
    "    ec_fba_sol_fru_anaer=EC_iCH360.optimize()\n",
    "    print(f\"EC-FBA objective: {round(ec_fba_sol_fru_anaer.fluxes['Biomass_fw'],2)}/h\")\n",
    "    ec_fba_sol_fru_anaer.fluxes.head()\n"
   ]
  },
  {
   "cell_type": "markdown",
   "metadata": {},
   "source": [
    "## Converting directional fluxes into net fluxes"
   ]
  },
  {
   "cell_type": "markdown",
   "metadata": {},
   "source": [
    "As we've seen, running EC-FBA on EC-*i*CH360 does not require any extra steps than running FBA on the stoichiometric model. However, the resulting flux distribution are given in terms of directional fluxes (forward and backwards) components, which are not *directly* comparable with those of the normal model (and cannot, for example, be used for visualisation with the metabolic maps).\n",
    "\n",
    "To obtain the net fluxes, we simply subtract the forward and backward component of each reaction, paying attention that not all reactions have a backward components:"
   ]
  },
  {
   "cell_type": "code",
   "execution_count": 133,
   "metadata": {},
   "outputs": [
    {
     "data": {
      "text/plain": [
       "NDPK5     0.016660\n",
       "SHK3Dr    0.234334\n",
       "NDPK6     0.016136\n",
       "NDPK8     0.016136\n",
       "DHORTS   -0.203989\n",
       "dtype: float64"
      ]
     },
     "execution_count": 133,
     "metadata": {},
     "output_type": "execute_result"
    }
   ],
   "source": [
    "fluxes=ec_fba_sol.fluxes\n",
    "forward_reaction_ids=[r.id for r in EC_iCH360.reactions if '_fw' in r.id]\n",
    "net_fluxes=pd.Series(dtype=float)\n",
    "\n",
    "for fw_rxn_id in forward_reaction_ids:\n",
    "    #Remove the direction suffix\n",
    "    net_reaction_id=fw_rxn_id.replace('_fw','')\n",
    "    #If the reaction has a backward component, subtract it from the forward one to obtain net flux\n",
    "    bw_rxn_id=fw_rxn_id.replace('_fw','_bw')\n",
    "    if  bw_rxn_id in EC_iCH360.reactions:\n",
    "        net_fluxes[net_reaction_id]=fluxes[fw_rxn_id]-fluxes[bw_rxn_id]\n",
    "    else:\n",
    "        net_fluxes[net_reaction_id]=fluxes[fw_rxn_id]\n",
    "net_fluxes.head()"
   ]
  },
  {
   "cell_type": "markdown",
   "metadata": {},
   "source": [
    "For those that like condensed syntax, the following pythonic one-liner achieves the same as the above loop."
   ]
  },
  {
   "cell_type": "code",
   "execution_count": 134,
   "metadata": {},
   "outputs": [
    {
     "data": {
      "text/plain": [
       "NDPK5     0.016660\n",
       "SHK3Dr    0.234334\n",
       "NDPK6     0.016136\n",
       "NDPK8     0.016136\n",
       "DHORTS   -0.203989\n",
       "dtype: float64"
      ]
     },
     "execution_count": 134,
     "metadata": {},
     "output_type": "execute_result"
    }
   ],
   "source": [
    "net_fluxes=pd.Series({fw_rxn_id.replace('_fw',''):  fluxes[fw_rxn_id]-fluxes[fw_rxn_id.replace('_fw','_bw')]  \n",
    "                                                    if fw_rxn_id.replace('_fw','_bw') in EC_iCH360.reactions \n",
    "                                                    else fluxes[fw_rxn_id]\n",
    "                                                    for fw_rxn_id in forward_reaction_ids\n",
    "                      })\n",
    "net_fluxes.head()"
   ]
  },
  {
   "cell_type": "markdown",
   "metadata": {},
   "source": [
    "## Extracting enzyme abundances"
   ]
  },
  {
   "cell_type": "markdown",
   "metadata": {},
   "source": [
    "While EC-FBA formally optimised fluxes, it implicitly generates an  optimal allocation of metabolic enzyme across its network, based on the enzyme cost that parametrise the model. EC-*i*CH360 does not include enzymes as explicit variables (which would require introduction of many pseudoreactions/metabolites in the model), so we need to \"extract\" this information from the solution. To enable this to be done without the need of external tables/mappings, we added the relevant information as annotations in each reaction.\n",
    "\n",
    "For example, each enzymatic reactions contains an annotation field `smoment_enzyme`, which contains the enzyme mapped to this reaction when constructing the sMOMENT:"
   ]
  },
  {
   "cell_type": "code",
   "execution_count": 135,
   "metadata": {},
   "outputs": [
    {
     "data": {
      "text/plain": [
       "'CITRATE-SI-SYNTHASE'"
      ]
     },
     "execution_count": 135,
     "metadata": {},
     "output_type": "execute_result"
    }
   ],
   "source": [
    "EC_iCH360.reactions.get_by_id('CS_fw').annotation['smoment_enzyme']"
   ]
  },
  {
   "cell_type": "markdown",
   "metadata": {},
   "source": [
    "Each enzyme in  EC-*i*CH360 maps to a protein in the [knowledge graph](../Docs/knowledge_graph.md), which can therefore be used to extract all relevant information (and external annotations) on the enzyme. You can find more information on how a single enzyme was assigned to each reaction in the manuscript supporting the model. The predicted abundance of an enzyme can therefore be computed by summing all the contributions from different reactions that use the enzyme. Remember that the contribution of each reaction to the total enzyme pool is computed as $a_i~v_i$ where the cost coefficient $a_i$ is the (negative) stoichiometry with which the enzyme pool pseudometabolite is consumed in each reaction\n",
    "\n",
    "The following code achieves exactly this, using the fluxes computed in the previous section\n"
   ]
  },
  {
   "cell_type": "code",
   "execution_count": 136,
   "metadata": {},
   "outputs": [
    {
     "data": {
      "text/plain": [
       "TRANSKETOI-CPLX         0.004065\n",
       "CPLX0-8005              0.001482\n",
       "ADENYLYLSULFKIN-CPLX    0.000084\n",
       "PURE-CPLX               0.000315\n",
       "ABC-12-CPLX             0.000000\n",
       "Name: enzyme_abundance_g_gDW, dtype: float64"
      ]
     },
     "execution_count": 136,
     "metadata": {},
     "output_type": "execute_result"
    }
   ],
   "source": [
    "# Let's extract the ID of all enzymes in the model\n",
    "enzyme_ids=set([r.annotation['smoment_enzyme'] for r in EC_iCH360.reactions if 'smoment_enzyme' in r.annotation])\n",
    "#Initialise a Series that will contain the predicted abundance of each enzyme (for now, set abundance to 0. for all enzymes)\n",
    "enzyme_abundances=pd.Series(index=enzyme_ids,data=0.,name='enzyme_abundance_g_gDW')\n",
    "\n",
    "enzyme_pool=EC_iCH360.metabolites.get_by_id(\"enzyme_pool\") #we will use this to retrieve the enzyme cost of each reaction\n",
    "for r in EC_iCH360.reactions: \n",
    "     #If the reaction consumes enzymatic resources, compute its contribution and add that to the enzyme abundanc evector\n",
    "     if enzyme_pool in r.metabolites and r.id!='enzyme_pool_supply':\n",
    "        flux=fluxes[r.id] #flux of the reaction in the EC-FBA solution\n",
    "        enzyme_cost=-r.metabolites[enzyme_pool] #enzyme cost per unit flux\n",
    "        enzyme_id=r.annotation['smoment_enzyme'] #enzyme used by the reaction\n",
    "        enzyme_abundances[enzyme_id]+=enzyme_cost*flux #enzyme abundance in g/gDW\n",
    "\n",
    "enzyme_abundances.head()"
   ]
  },
  {
   "cell_type": "markdown",
   "metadata": {},
   "source": [
    "We can verify that the total predicted abundance matches exactly the enzyme budget in the model (the upper bound on the `enzyme_pool_supply` reaction);"
   ]
  },
  {
   "cell_type": "code",
   "execution_count": 137,
   "metadata": {},
   "outputs": [
    {
     "data": {
      "text/plain": [
       "True"
      ]
     },
     "execution_count": 137,
     "metadata": {},
     "output_type": "execute_result"
    }
   ],
   "source": [
    "enzyme_abundances.sum()==EC_iCH360.reactions.get_by_id('enzyme_pool_supply').upper_bound"
   ]
  },
  {
   "cell_type": "markdown",
   "metadata": {},
   "source": [
    "## Putting all together"
   ]
  },
  {
   "cell_type": "markdown",
   "metadata": {},
   "source": [
    "The following code merges summarises what we've shown in the previous sections and can be used to merge the EC-FBA solution (net fluxes and enzyme abundances) into a single pandas DataFrame"
   ]
  },
  {
   "cell_type": "code",
   "execution_count": 138,
   "metadata": {},
   "outputs": [],
   "source": [
    "def EC_FBA(ec_model):\n",
    "    # First, optimise the model and extract optimal fluxes\n",
    "    ec_fba_sol=ec_model.optimize()\n",
    "    fluxes=ec_fba_sol.fluxes\n",
    "    #====================================\n",
    "    #Compute net fluxes from the solution\n",
    "    forward_reaction_ids=[r.id for r in ec_model.reactions if '_fw' in r.id]\n",
    "    net_fluxes={fw_rxn_id.replace('_fw',''):  fluxes[fw_rxn_id]-fluxes[fw_rxn_id.replace('_fw','_bw')]  \n",
    "                                                    if fw_rxn_id.replace('_fw','_bw') in ec_model.reactions \n",
    "                                                    else fluxes[fw_rxn_id]\n",
    "                                                    for fw_rxn_id in forward_reaction_ids\n",
    "                      }\n",
    "    #========================================\n",
    "    #Compute enzyme abundances from the solution\n",
    "    enzyme_ids=set([r.annotation['smoment_enzyme'] for r in ec_model.reactions if 'smoment_enzyme' in r.annotation])\n",
    "    #Initialise a Series that will contain the predicted abundance of each enzyme (for now, set abundance to 0. for all enzymes)\n",
    "    enzyme_abundances=pd.Series(index=enzyme_ids,data=0.,name='enzyme_abundance_g_gDW')\n",
    "\n",
    "    enzyme_pool=ec_model.metabolites.get_by_id(\"enzyme_pool\") #we will use this to retrieve the enzyme cost of each reaction\n",
    "    for r in ec_model.reactions: \n",
    "        #If the reaction consumes enzymatic resources, compute its contribution and add that to the enzyme abundanc evector\n",
    "        if enzyme_pool in r.metabolites and r.id!='enzyme_pool_supply':\n",
    "            flux=fluxes[r.id] #flux of the reaction in the EC-FBA solution\n",
    "            enzyme_cost=-r.metabolites[enzyme_pool] #enzyme cost per unit flux\n",
    "            enzyme_id=r.annotation['smoment_enzyme'] #enzyme used by the reaction\n",
    "            enzyme_abundances[enzyme_id]+=enzyme_cost*flux #enzyme abundance in g/gDW\n",
    "    #=======================================================\n",
    "    #Create an output table, which merge reactions and enzyme abundance\n",
    "    out=pd.DataFrame(index=net_fluxes.keys(),columns=['flux','enzyme','enzyme_abundance_g_gDW'])\n",
    "    for r_id,flux in net_fluxes.items():\n",
    "        #Since all reactions in EC-iCH360 have a forward component, but not all have a backwards one, we will use the forward to retrieve the enzyme mapped to the reaction\n",
    "        forward_reaction=ec_model.reactions.get_by_id(r_id+'_fw')\n",
    "        enzyme_id=forward_reaction.annotation['smoment_enzyme'] if 'smoment_enzyme' in forward_reaction.annotation else 'NA'\n",
    "        out.loc[r_id,'flux']=flux\n",
    "        if enzyme_id in enzyme_abundances.index:\n",
    "            #If we do have an enzyme for this reaction, store that in the table\n",
    "            out.loc[r_id,'enzyme']=enzyme_id\n",
    "            out.loc[r_id,'enzyme_abundance_g_gDW']=enzyme_abundances[enzyme_id]\n",
    "    return out"
   ]
  },
  {
   "cell_type": "markdown",
   "metadata": {},
   "source": [
    "Here it is in action:"
   ]
  },
  {
   "cell_type": "code",
   "execution_count": 139,
   "metadata": {},
   "outputs": [
    {
     "data": {
      "text/html": [
       "<div>\n",
       "<style scoped>\n",
       "    .dataframe tbody tr th:only-of-type {\n",
       "        vertical-align: middle;\n",
       "    }\n",
       "\n",
       "    .dataframe tbody tr th {\n",
       "        vertical-align: top;\n",
       "    }\n",
       "\n",
       "    .dataframe thead th {\n",
       "        text-align: right;\n",
       "    }\n",
       "</style>\n",
       "<table border=\"1\" class=\"dataframe\">\n",
       "  <thead>\n",
       "    <tr style=\"text-align: right;\">\n",
       "      <th></th>\n",
       "      <th>flux</th>\n",
       "      <th>enzyme</th>\n",
       "      <th>enzyme_abundance_g_gDW</th>\n",
       "    </tr>\n",
       "  </thead>\n",
       "  <tbody>\n",
       "    <tr>\n",
       "      <th>NDPK5</th>\n",
       "      <td>0.01666</td>\n",
       "      <td>NUCLEOSIDE-DIP-KIN-CPLX</td>\n",
       "      <td>0.002093</td>\n",
       "    </tr>\n",
       "    <tr>\n",
       "      <th>SHK3Dr</th>\n",
       "      <td>0.234334</td>\n",
       "      <td>AROE-MONOMER</td>\n",
       "      <td>0.000036</td>\n",
       "    </tr>\n",
       "    <tr>\n",
       "      <th>NDPK6</th>\n",
       "      <td>0.016136</td>\n",
       "      <td>NUCLEOSIDE-DIP-KIN-CPLX</td>\n",
       "      <td>0.002093</td>\n",
       "    </tr>\n",
       "    <tr>\n",
       "      <th>NDPK8</th>\n",
       "      <td>0.016136</td>\n",
       "      <td>NUCLEOSIDE-DIP-KIN-CPLX</td>\n",
       "      <td>0.002093</td>\n",
       "    </tr>\n",
       "    <tr>\n",
       "      <th>DHORTS</th>\n",
       "      <td>-0.203989</td>\n",
       "      <td>DIHYDROOROT-CPLX</td>\n",
       "      <td>0.001043</td>\n",
       "    </tr>\n",
       "  </tbody>\n",
       "</table>\n",
       "</div>"
      ],
      "text/plain": [
       "            flux                   enzyme enzyme_abundance_g_gDW\n",
       "NDPK5    0.01666  NUCLEOSIDE-DIP-KIN-CPLX               0.002093\n",
       "SHK3Dr  0.234334             AROE-MONOMER               0.000036\n",
       "NDPK6   0.016136  NUCLEOSIDE-DIP-KIN-CPLX               0.002093\n",
       "NDPK8   0.016136  NUCLEOSIDE-DIP-KIN-CPLX               0.002093\n",
       "DHORTS -0.203989         DIHYDROOROT-CPLX               0.001043"
      ]
     },
     "execution_count": 139,
     "metadata": {},
     "output_type": "execute_result"
    }
   ],
   "source": [
    "ec_fba_results=EC_FBA(EC_iCH360)\n",
    "ec_fba_results.head()"
   ]
  },
  {
   "cell_type": "markdown",
   "metadata": {},
   "source": [
    "## Modifying model parameters\n",
    "In this tutorial, we explored how to use EC-*i*CH360 with its default parameters. If you wish to change some of the model parametrisation, here are some hints:\n",
    "### Using different turnover parameters\n",
    "If you wish to use your own turnover parameters for one or multiple reactions, you'll first have to compute an enzyme cost (enzyme mass required per unit flux) in units of g*h/mmol. Typically in enzyme constraint models these are computed as \n",
    "$$\n",
    "a_i=\\frac{M_i}{\\sigma~k_{\\rm cat,i}}\n",
    "$$\n",
    "where $M_i$ is the molecular weight of the enzyme (in kDa), $k_{\\rm cat,i}$ is the turnover parameter for the enzyme-reaction pair, and $\\sigma$ is a scaling accounting e.g. for saturation effects. In practice, it doesn't matter how you choose to compute the enzyme cost, as only the final value is used as a parameter in EC-*i*CH360. You can retrieve the molecular weight ($M_i$) for the enzyme in EC-*i*CH360 via the annotation field `smoment_mw`, or you can use the knowledge graph if you wish to choose a different enzyme for that reaction!\n",
    "\n",
    "Having computed your own flux cost(s), you simply need to change them in the model by changing the stoichiometry with which the `enzyme_pool` metabolite is consumed by an enzymatic reaction (pay attention to the minus sign, as the enzyme pool is always consumed by metabolic reactions!). For example, to change the flux cost of the`GAPD_fw`, you can run:"
   ]
  },
  {
   "cell_type": "code",
   "execution_count": 140,
   "metadata": {},
   "outputs": [
    {
     "name": "stdout",
     "output_type": "stream",
     "text": [
      "Read LP format model from file C:\\Users\\marco\\AppData\\Local\\Temp\\tmp54fwvkfy.lp\n",
      "Reading time = 0.01 seconds\n",
      ": 305 rows, 1010 columns, 4816 nonzeros\n",
      "\n",
      "New flux cost: 0.001 g*h/mmol\n"
     ]
    }
   ],
   "source": [
    "modified_EC_iCH360=EC_iCH360.copy() #make a copy of the model\n",
    "enzyme_pool=modified_EC_iCH360.metabolites.get_by_id('enzyme_pool') #identify the enzyme pool metabolite\n",
    "new_flux_cost=0.001 #g*h/mmol\n",
    "#Update the cost. Using combine=False ensure the old cost is overriden\n",
    "modified_EC_iCH360.reactions.get_by_id('GAPD_fw').add_metabolites({enzyme_pool: -new_flux_cost},combine=False)\n",
    "print(f\"\\nNew flux cost: {-modified_EC_iCH360.reactions.get_by_id('GAPD_fw').metabolites[enzyme_pool]} g*h/mmol\")"
   ]
  },
  {
   "cell_type": "markdown",
   "metadata": {},
   "source": [
    "### Changing the enzyme mass budget\n",
    "This can be achieved by changing the upper bound of the `enzyme_pool_supply` reaction:"
   ]
  },
  {
   "cell_type": "code",
   "execution_count": 141,
   "metadata": {},
   "outputs": [],
   "source": [
    "new_enzyme_budget=0.32 #in g/gDW\n",
    "modified_EC_iCH360.reactions.get_by_id('enzyme_pool_supply').upper_bound=new_enzyme_budget"
   ]
  },
  {
   "cell_type": "markdown",
   "metadata": {},
   "source": [
    "## References\n",
    "1. Bekiaris, P. S. & Klamt, S. Automatic construction of metabolic models with enzyme constraints. BMC Bioinformatics 21, 19 (2020)."
   ]
  }
 ],
 "metadata": {
  "kernelspec": {
   "display_name": "kinetic_data",
   "language": "python",
   "name": "python3"
  },
  "language_info": {
   "codemirror_mode": {
    "name": "ipython",
    "version": 3
   },
   "file_extension": ".py",
   "mimetype": "text/x-python",
   "name": "python",
   "nbconvert_exporter": "python",
   "pygments_lexer": "ipython3",
   "version": "3.10.9"
  }
 },
 "nbformat": 4,
 "nbformat_minor": 2
}
